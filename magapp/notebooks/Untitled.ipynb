{
 "cells": [
  {
   "cell_type": "code",
   "execution_count": 1,
   "id": "8bc561a9",
   "metadata": {},
   "outputs": [],
   "source": [
    "from django import forms\n",
    "\n",
    "from magapp.recipes.models import Recipe, RecipeIngredient\n",
    "\n",
    "\n",
    "class RecipeIngredientTestForm(forms.ModelForm):\n",
    "    name = forms.CharField(label='Nome', \n",
    "                           max_length=100, \n",
    "                           required=True)\n",
    "\n",
    "    class Meta:\n",
    "        model = RecipeIngredient\n",
    "        fields =(\"qtd\", \"metric_type\")\n",
    "\n"
   ]
  },
  {
   "cell_type": "code",
   "execution_count": 2,
   "id": "5fb82c25",
   "metadata": {},
   "outputs": [
    {
     "name": "stdout",
     "output_type": "stream",
     "text": [
      "Collecting beautifulsoup4\n",
      "  Downloading beautifulsoup4-4.10.0-py3-none-any.whl (97 kB)\n",
      "\u001b[K     |████████████████████████████████| 97 kB 127 kB/s eta 0:00:01\n",
      "\u001b[?25hCollecting soupsieve>1.2\n",
      "  Downloading soupsieve-2.3.1-py3-none-any.whl (37 kB)\n",
      "Installing collected packages: soupsieve, beautifulsoup4\n",
      "Successfully installed beautifulsoup4-4.10.0 soupsieve-2.3.1\n",
      "\u001b[33mWARNING: Running pip as the 'root' user can result in broken permissions and conflicting behaviour with the system package manager. It is recommended to use a virtual environment instead: https://pip.pypa.io/warnings/venv\u001b[0m\n",
      "\u001b[33mWARNING: You are using pip version 21.2.4; however, version 22.0 is available.\n",
      "You should consider upgrading via the '/usr/local/bin/python -m pip install --upgrade pip' command.\u001b[0m\n"
     ]
    }
   ],
   "source": [
    "!pip install beautifulsoup4"
   ]
  },
  {
   "cell_type": "code",
   "execution_count": 3,
   "id": "f383d9fb",
   "metadata": {},
   "outputs": [],
   "source": [
    "from bs4 import BeautifulSoup\n",
    "def printh(s):\n",
    "    print(BeautifulSoup(str(s), 'html.parser').prettify())"
   ]
  },
  {
   "cell_type": "code",
   "execution_count": 4,
   "id": "3fea78e0",
   "metadata": {},
   "outputs": [],
   "source": [
    "data = {'name': '234',\n",
    "         'qtd': '2345',\n",
    "         'metric_type': 'L'}"
   ]
  },
  {
   "cell_type": "code",
   "execution_count": 5,
   "id": "f7f4aefb",
   "metadata": {},
   "outputs": [],
   "source": [
    "f = RecipeIngredientTestForm(data)"
   ]
  },
  {
   "cell_type": "code",
   "execution_count": 6,
   "id": "505d7827",
   "metadata": {},
   "outputs": [
    {
     "name": "stdout",
     "output_type": "stream",
     "text": [
      "as_text:  \n",
      "\n",
      "------------------------------\n",
      "as_json:  {}\n",
      "\n",
      "------------------------------\n",
      "as_data:  {}\n",
      "\n",
      "------------------------------\n"
     ]
    }
   ],
   "source": [
    "    print('as_text: ', f.errors.as_text())\n",
    "    print('')\n",
    "    print('------------------------------')\n",
    "    print('as_json: ', f.errors.as_json())\n",
    "    print('')\n",
    "    print('------------------------------')\n",
    "    print('as_data: ', f.errors.as_data())\n",
    "    print('')\n",
    "    print('------------------------------')\n"
   ]
  },
  {
   "cell_type": "code",
   "execution_count": 7,
   "id": "1be94b67",
   "metadata": {},
   "outputs": [
    {
     "name": "stdout",
     "output_type": "stream",
     "text": [
      "Quantidade <bound method ErrorList.as_text of []>\n",
      "Tipo de métrica <bound method ErrorList.as_text of []>\n",
      "Nome <bound method ErrorList.as_text of []>\n"
     ]
    }
   ],
   "source": [
    "for fld in f:\n",
    "    print(fld.label, fld.errors.as_text)"
   ]
  },
  {
   "cell_type": "code",
   "execution_count": 8,
   "id": "6ac50c32",
   "metadata": {
    "scrolled": true
   },
   "outputs": [
    {
     "data": {
      "text/plain": [
       "['__call__',\n",
       " '__class__',\n",
       " '__delattr__',\n",
       " '__dir__',\n",
       " '__doc__',\n",
       " '__eq__',\n",
       " '__format__',\n",
       " '__func__',\n",
       " '__ge__',\n",
       " '__get__',\n",
       " '__getattribute__',\n",
       " '__gt__',\n",
       " '__hash__',\n",
       " '__init__',\n",
       " '__init_subclass__',\n",
       " '__le__',\n",
       " '__lt__',\n",
       " '__ne__',\n",
       " '__new__',\n",
       " '__reduce__',\n",
       " '__reduce_ex__',\n",
       " '__repr__',\n",
       " '__self__',\n",
       " '__setattr__',\n",
       " '__sizeof__',\n",
       " '__str__',\n",
       " '__subclasshook__']"
      ]
     },
     "execution_count": 8,
     "metadata": {},
     "output_type": "execute_result"
    }
   ],
   "source": [
    "dir(f.errors.as_text)"
   ]
  },
  {
   "cell_type": "code",
   "execution_count": null,
   "id": "ffe876ac",
   "metadata": {},
   "outputs": [],
   "source": []
  },
  {
   "cell_type": "code",
   "execution_count": 9,
   "id": "c7a683bd",
   "metadata": {},
   "outputs": [
    {
     "name": "stdout",
     "output_type": "stream",
     "text": [
      "as_text:  \n",
      "\n",
      "------------------------------\n",
      "as_json:  {}\n",
      "\n",
      "------------------------------\n",
      "as_data:  {}\n",
      "\n",
      "------------------------------\n"
     ]
    }
   ],
   "source": [
    "    print('as_text: ', f.errors.as_text())\n",
    "    print('')\n",
    "    print('------------------------------')\n",
    "    print('as_json: ', f.errors.as_json())\n",
    "    print('')\n",
    "    print('------------------------------')\n",
    "    print('as_data: ', f.errors.as_data())\n",
    "    print('')\n",
    "    print('------------------------------')\n"
   ]
  },
  {
   "cell_type": "code",
   "execution_count": 10,
   "id": "697eb6a2",
   "metadata": {},
   "outputs": [],
   "source": [
    "from django.forms import formset_factory\n"
   ]
  },
  {
   "cell_type": "code",
   "execution_count": 11,
   "id": "89c0c53e",
   "metadata": {},
   "outputs": [
    {
     "data": {
      "text/plain": [
       "{'qtd': 2345, 'metric_type': 'L', 'name': '234'}"
      ]
     },
     "execution_count": 11,
     "metadata": {},
     "output_type": "execute_result"
    }
   ],
   "source": [
    "dtform = f.cleaned_data\n",
    "dtform"
   ]
  },
  {
   "cell_type": "code",
   "execution_count": 13,
   "id": "85caa5ab",
   "metadata": {},
   "outputs": [
    {
     "name": "stdout",
     "output_type": "stream",
     "text": [
      "<input type=\"hidden\" name=\"form-TOTAL_FORMS\" value=\"3\" id=\"id_form-TOTAL_FORMS\">\n",
      "<input type=\"hidden\" name=\"form-INITIAL_FORMS\" value=\"3\" id=\"id_form-INITIAL_FORMS\">\n",
      "<input type=\"hidden\" name=\"form-MIN_NUM_FORMS\" value=\"0\" id=\"id_form-MIN_NUM_FORMS\">\n",
      "<input type=\"hidden\" name=\"form-MAX_NUM_FORMS\" value=\"1000\" id=\"id_form-MAX_NUM_FORMS\">\n",
      "\n",
      "<input type=\"hidden\" name=\"form-TOTAL_FORMS\" value=\"3\" id=\"id_form-TOTAL_FORMS\">\n",
      "\n",
      "\n",
      "<input type=\"hidden\" name=\"form-TOTAL_FORMS\" value=\"3\" id=\"id_form-TOTAL_FORMS\">\n",
      "\n",
      "[{'name': 'AAAAAAAAAAAAAAAAAAAAAAAAAAAAAAAAAAAA', 'qtd': '1234', 'metric_type': 'L'}, {'name': 'BBBBBBBBBBBBBBBBBBBBBBBBBBBBBBBBBBBb', 'qtd': '1234', 'metric_type': 'L'}, {'name': 'CCCCCCCCCCCCCCCCCCCCCCCCCCCCCCCCCCc', 'qtd': '1234', 'metric_type': 'L'}, {'qtd': 2345, 'metric_type': 'L', 'name': '234'}]\n"
     ]
    }
   ],
   "source": [
    "data =[{'name': 'AAAAAAAAAAAAAAAAAAAAAAAAAAAAAAAAAAAA',\n",
    "         'qtd': '1234',\n",
    "         'metric_type': 'L'},\n",
    "       {'name': 'BBBBBBBBBBBBBBBBBBBBBBBBBBBBBBBBBBBb',\n",
    "         'qtd': '1234',\n",
    "         'metric_type': 'L'},\n",
    "       {'name': 'CCCCCCCCCCCCCCCCCCCCCCCCCCCCCCCCCCc',\n",
    "         'qtd': '1234',\n",
    "         'metric_type': 'L'}\n",
    "      ]\n",
    "fs = formset_factory(RecipeIngredientTestForm, extra=0)(initial=data)\n",
    "for i in fs.management_form:\n",
    "    print(i)\n",
    "print()\n",
    "print(fs.management_form[\"TOTAL_FORMS\"])\n",
    "print()\n",
    "\n",
    "\n",
    "fs = formset_factory(RecipeIngredientTestForm, extra=0)(initial=data)\n",
    "\n",
    "print()\n",
    "print(fs.management_form[\"TOTAL_FORMS\"])\n",
    "print()\n",
    "# Base da logica\n",
    "dtform = f.cleaned_data\n",
    "dtformset = fs.initial.copy()\n",
    "dtformset.extend([dtform])\n",
    "fs = formset_factory(RecipeIngredientTestForm, extra=0)(initial=dtformset)\n",
    "\n",
    "\n",
    "print(fs.initial)\n"
   ]
  },
  {
   "cell_type": "code",
   "execution_count": null,
   "id": "35427d72",
   "metadata": {},
   "outputs": [],
   "source": []
  },
  {
   "cell_type": "code",
   "execution_count": 34,
   "id": "2fc1a680",
   "metadata": {},
   "outputs": [
    {
     "name": "stdout",
     "output_type": "stream",
     "text": [
      "<input type=\"hidden\" name=\"form-0-qtd\" value=\"1234\" id=\"id_form-0-qtd\">\n",
      "id_form-0-qtd\n",
      "<bound method BoundField.label_tag of <django.forms.boundfield.BoundField object at 0x7fb2acbbd850>>\n",
      "form-0-qtd\n",
      "['__bool__', '__class__', '__delattr__', '__dict__', '__dir__', '__doc__', '__eq__', '__format__', '__ge__', '__getattribute__', '__getitem__', '__gt__', '__hash__', '__html__', '__init__', '__init_subclass__', '__iter__', '__le__', '__len__', '__lt__', '__module__', '__ne__', '__new__', '__reduce__', '__reduce_ex__', '__repr__', '__setattr__', '__sizeof__', '__str__', '__subclasshook__', '__weakref__', 'as_hidden', 'as_text', 'as_textarea', 'as_widget', 'auto_id', 'build_widget_attrs', 'css_classes', 'data', 'errors', 'field', 'form', 'help_text', 'html_initial_id', 'html_initial_name', 'html_name', 'id_for_label', 'initial', 'is_hidden', 'label', 'label_tag', 'name', 'subwidgets', 'value', 'widget_type']\n",
      "#################################################\n",
      "<input type=\"hidden\" name=\"form-0-metric_type\" value=\"L\" id=\"id_form-0-metric_type\">\n",
      "id_form-0-metric_type\n",
      "<bound method BoundField.label_tag of <django.forms.boundfield.BoundField object at 0x7fb2acbe07c0>>\n",
      "form-0-metric_type\n",
      "['__bool__', '__class__', '__delattr__', '__dict__', '__dir__', '__doc__', '__eq__', '__format__', '__ge__', '__getattribute__', '__getitem__', '__gt__', '__hash__', '__html__', '__init__', '__init_subclass__', '__iter__', '__le__', '__len__', '__lt__', '__module__', '__ne__', '__new__', '__reduce__', '__reduce_ex__', '__repr__', '__setattr__', '__sizeof__', '__str__', '__subclasshook__', '__weakref__', 'as_hidden', 'as_text', 'as_textarea', 'as_widget', 'auto_id', 'build_widget_attrs', 'css_classes', 'data', 'errors', 'field', 'form', 'help_text', 'html_initial_id', 'html_initial_name', 'html_name', 'id_for_label', 'initial', 'is_hidden', 'label', 'label_tag', 'name', 'subwidgets', 'value', 'widget_type']\n",
      "#################################################\n",
      "<input type=\"hidden\" name=\"form-0-name\" value=\"AAAAAAAAAAAAAAAAAAAAAAAAAAAAAAAAAAAA\" id=\"id_form-0-name\">\n",
      "id_form-0-name\n",
      "<bound method BoundField.label_tag of <django.forms.boundfield.BoundField object at 0x7fb2acd18910>>\n",
      "form-0-name\n",
      "['__bool__', '__class__', '__delattr__', '__dict__', '__dir__', '__doc__', '__eq__', '__format__', '__ge__', '__getattribute__', '__getitem__', '__gt__', '__hash__', '__html__', '__init__', '__init_subclass__', '__iter__', '__le__', '__len__', '__lt__', '__module__', '__ne__', '__new__', '__reduce__', '__reduce_ex__', '__repr__', '__setattr__', '__sizeof__', '__str__', '__subclasshook__', '__weakref__', 'as_hidden', 'as_text', 'as_textarea', 'as_widget', 'auto_id', 'build_widget_attrs', 'css_classes', 'data', 'errors', 'field', 'form', 'help_text', 'html_initial_id', 'html_initial_name', 'html_name', 'id_for_label', 'initial', 'is_hidden', 'label', 'label_tag', 'name', 'subwidgets', 'value', 'widget_type']\n",
      "#################################################\n",
      "<input type=\"hidden\" name=\"form-1-qtd\" value=\"1234\" id=\"id_form-1-qtd\">\n",
      "id_form-1-qtd\n",
      "<bound method BoundField.label_tag of <django.forms.boundfield.BoundField object at 0x7fb2acb3ca60>>\n",
      "form-1-qtd\n",
      "['__bool__', '__class__', '__delattr__', '__dict__', '__dir__', '__doc__', '__eq__', '__format__', '__ge__', '__getattribute__', '__getitem__', '__gt__', '__hash__', '__html__', '__init__', '__init_subclass__', '__iter__', '__le__', '__len__', '__lt__', '__module__', '__ne__', '__new__', '__reduce__', '__reduce_ex__', '__repr__', '__setattr__', '__sizeof__', '__str__', '__subclasshook__', '__weakref__', 'as_hidden', 'as_text', 'as_textarea', 'as_widget', 'auto_id', 'build_widget_attrs', 'css_classes', 'data', 'errors', 'field', 'form', 'help_text', 'html_initial_id', 'html_initial_name', 'html_name', 'id_for_label', 'initial', 'is_hidden', 'label', 'label_tag', 'name', 'subwidgets', 'value', 'widget_type']\n",
      "#################################################\n",
      "<input type=\"hidden\" name=\"form-1-metric_type\" value=\"L\" id=\"id_form-1-metric_type\">\n",
      "id_form-1-metric_type\n",
      "<bound method BoundField.label_tag of <django.forms.boundfield.BoundField object at 0x7fb2acb44280>>\n",
      "form-1-metric_type\n",
      "['__bool__', '__class__', '__delattr__', '__dict__', '__dir__', '__doc__', '__eq__', '__format__', '__ge__', '__getattribute__', '__getitem__', '__gt__', '__hash__', '__html__', '__init__', '__init_subclass__', '__iter__', '__le__', '__len__', '__lt__', '__module__', '__ne__', '__new__', '__reduce__', '__reduce_ex__', '__repr__', '__setattr__', '__sizeof__', '__str__', '__subclasshook__', '__weakref__', 'as_hidden', 'as_text', 'as_textarea', 'as_widget', 'auto_id', 'build_widget_attrs', 'css_classes', 'data', 'errors', 'field', 'form', 'help_text', 'html_initial_id', 'html_initial_name', 'html_name', 'id_for_label', 'initial', 'is_hidden', 'label', 'label_tag', 'name', 'subwidgets', 'value', 'widget_type']\n",
      "#################################################\n",
      "<input type=\"hidden\" name=\"form-1-name\" value=\"BBBBBBBBBBBBBBBBBBBBBBBBBBBBBBBBBBBb\" id=\"id_form-1-name\">\n",
      "id_form-1-name\n",
      "<bound method BoundField.label_tag of <django.forms.boundfield.BoundField object at 0x7fb2bde51eb0>>\n",
      "form-1-name\n",
      "['__bool__', '__class__', '__delattr__', '__dict__', '__dir__', '__doc__', '__eq__', '__format__', '__ge__', '__getattribute__', '__getitem__', '__gt__', '__hash__', '__html__', '__init__', '__init_subclass__', '__iter__', '__le__', '__len__', '__lt__', '__module__', '__ne__', '__new__', '__reduce__', '__reduce_ex__', '__repr__', '__setattr__', '__sizeof__', '__str__', '__subclasshook__', '__weakref__', 'as_hidden', 'as_text', 'as_textarea', 'as_widget', 'auto_id', 'build_widget_attrs', 'css_classes', 'data', 'errors', 'field', 'form', 'help_text', 'html_initial_id', 'html_initial_name', 'html_name', 'id_for_label', 'initial', 'is_hidden', 'label', 'label_tag', 'name', 'subwidgets', 'value', 'widget_type']\n",
      "#################################################\n",
      "<input type=\"hidden\" name=\"form-2-qtd\" value=\"1234\" id=\"id_form-2-qtd\">\n",
      "id_form-2-qtd\n",
      "<bound method BoundField.label_tag of <django.forms.boundfield.BoundField object at 0x7fb2acb3c7f0>>\n",
      "form-2-qtd\n",
      "['__bool__', '__class__', '__delattr__', '__dict__', '__dir__', '__doc__', '__eq__', '__format__', '__ge__', '__getattribute__', '__getitem__', '__gt__', '__hash__', '__html__', '__init__', '__init_subclass__', '__iter__', '__le__', '__len__', '__lt__', '__module__', '__ne__', '__new__', '__reduce__', '__reduce_ex__', '__repr__', '__setattr__', '__sizeof__', '__str__', '__subclasshook__', '__weakref__', 'as_hidden', 'as_text', 'as_textarea', 'as_widget', 'auto_id', 'build_widget_attrs', 'css_classes', 'data', 'errors', 'field', 'form', 'help_text', 'html_initial_id', 'html_initial_name', 'html_name', 'id_for_label', 'initial', 'is_hidden', 'label', 'label_tag', 'name', 'subwidgets', 'value', 'widget_type']\n",
      "#################################################\n",
      "<input type=\"hidden\" name=\"form-2-metric_type\" value=\"L\" id=\"id_form-2-metric_type\">\n",
      "id_form-2-metric_type\n",
      "<bound method BoundField.label_tag of <django.forms.boundfield.BoundField object at 0x7fb2acc24cd0>>\n",
      "form-2-metric_type\n",
      "['__bool__', '__class__', '__delattr__', '__dict__', '__dir__', '__doc__', '__eq__', '__format__', '__ge__', '__getattribute__', '__getitem__', '__gt__', '__hash__', '__html__', '__init__', '__init_subclass__', '__iter__', '__le__', '__len__', '__lt__', '__module__', '__ne__', '__new__', '__reduce__', '__reduce_ex__', '__repr__', '__setattr__', '__sizeof__', '__str__', '__subclasshook__', '__weakref__', 'as_hidden', 'as_text', 'as_textarea', 'as_widget', 'auto_id', 'build_widget_attrs', 'css_classes', 'data', 'errors', 'field', 'form', 'help_text', 'html_initial_id', 'html_initial_name', 'html_name', 'id_for_label', 'initial', 'is_hidden', 'label', 'label_tag', 'name', 'subwidgets', 'value', 'widget_type']\n",
      "#################################################\n",
      "<input type=\"hidden\" name=\"form-2-name\" value=\"CCCCCCCCCCCCCCCCCCCCCCCCCCCCCCCCCCc\" id=\"id_form-2-name\">\n",
      "id_form-2-name\n",
      "<bound method BoundField.label_tag of <django.forms.boundfield.BoundField object at 0x7fb2acc24ca0>>\n",
      "form-2-name\n",
      "['__bool__', '__class__', '__delattr__', '__dict__', '__dir__', '__doc__', '__eq__', '__format__', '__ge__', '__getattribute__', '__getitem__', '__gt__', '__hash__', '__html__', '__init__', '__init_subclass__', '__iter__', '__le__', '__len__', '__lt__', '__module__', '__ne__', '__new__', '__reduce__', '__reduce_ex__', '__repr__', '__setattr__', '__sizeof__', '__str__', '__subclasshook__', '__weakref__', 'as_hidden', 'as_text', 'as_textarea', 'as_widget', 'auto_id', 'build_widget_attrs', 'css_classes', 'data', 'errors', 'field', 'form', 'help_text', 'html_initial_id', 'html_initial_name', 'html_name', 'id_for_label', 'initial', 'is_hidden', 'label', 'label_tag', 'name', 'subwidgets', 'value', 'widget_type']\n",
      "#################################################\n",
      "<input type=\"hidden\" name=\"form-3-qtd\" value=\"2345\" id=\"id_form-3-qtd\">\n",
      "id_form-3-qtd\n",
      "<bound method BoundField.label_tag of <django.forms.boundfield.BoundField object at 0x7fb2acb3c7c0>>\n",
      "form-3-qtd\n",
      "['__bool__', '__class__', '__delattr__', '__dict__', '__dir__', '__doc__', '__eq__', '__format__', '__ge__', '__getattribute__', '__getitem__', '__gt__', '__hash__', '__html__', '__init__', '__init_subclass__', '__iter__', '__le__', '__len__', '__lt__', '__module__', '__ne__', '__new__', '__reduce__', '__reduce_ex__', '__repr__', '__setattr__', '__sizeof__', '__str__', '__subclasshook__', '__weakref__', 'as_hidden', 'as_text', 'as_textarea', 'as_widget', 'auto_id', 'build_widget_attrs', 'css_classes', 'data', 'errors', 'field', 'form', 'help_text', 'html_initial_id', 'html_initial_name', 'html_name', 'id_for_label', 'initial', 'is_hidden', 'label', 'label_tag', 'name', 'subwidgets', 'value', 'widget_type']\n",
      "#################################################\n",
      "<input type=\"hidden\" name=\"form-3-metric_type\" value=\"L\" id=\"id_form-3-metric_type\">\n",
      "id_form-3-metric_type\n",
      "<bound method BoundField.label_tag of <django.forms.boundfield.BoundField object at 0x7fb2acc24c70>>\n",
      "form-3-metric_type\n",
      "['__bool__', '__class__', '__delattr__', '__dict__', '__dir__', '__doc__', '__eq__', '__format__', '__ge__', '__getattribute__', '__getitem__', '__gt__', '__hash__', '__html__', '__init__', '__init_subclass__', '__iter__', '__le__', '__len__', '__lt__', '__module__', '__ne__', '__new__', '__reduce__', '__reduce_ex__', '__repr__', '__setattr__', '__sizeof__', '__str__', '__subclasshook__', '__weakref__', 'as_hidden', 'as_text', 'as_textarea', 'as_widget', 'auto_id', 'build_widget_attrs', 'css_classes', 'data', 'errors', 'field', 'form', 'help_text', 'html_initial_id', 'html_initial_name', 'html_name', 'id_for_label', 'initial', 'is_hidden', 'label', 'label_tag', 'name', 'subwidgets', 'value', 'widget_type']\n",
      "#################################################\n",
      "<input type=\"hidden\" name=\"form-3-name\" value=\"234\" id=\"id_form-3-name\">\n",
      "id_form-3-name\n",
      "<bound method BoundField.label_tag of <django.forms.boundfield.BoundField object at 0x7fb2acc24d30>>\n",
      "form-3-name\n",
      "['__bool__', '__class__', '__delattr__', '__dict__', '__dir__', '__doc__', '__eq__', '__format__', '__ge__', '__getattribute__', '__getitem__', '__gt__', '__hash__', '__html__', '__init__', '__init_subclass__', '__iter__', '__le__', '__len__', '__lt__', '__module__', '__ne__', '__new__', '__reduce__', '__reduce_ex__', '__repr__', '__setattr__', '__sizeof__', '__str__', '__subclasshook__', '__weakref__', 'as_hidden', 'as_text', 'as_textarea', 'as_widget', 'auto_id', 'build_widget_attrs', 'css_classes', 'data', 'errors', 'field', 'form', 'help_text', 'html_initial_id', 'html_initial_name', 'html_name', 'id_for_label', 'initial', 'is_hidden', 'label', 'label_tag', 'name', 'subwidgets', 'value', 'widget_type']\n",
      "#################################################\n"
     ]
    }
   ],
   "source": [
    "for f in fs:\n",
    "    for fl in f:\n",
    "        print(fl.as_hidden())\n",
    "        print(fl.id_for_label)\n",
    "        print(fl.label_tag)\n",
    "        print(fl.html_name)\n",
    "        print(dir(fl))\n",
    "        print('#################################################')"
   ]
  },
  {
   "cell_type": "code",
   "execution_count": null,
   "id": "645263cd",
   "metadata": {},
   "outputs": [],
   "source": [
    "field = f['metric_type']\n",
    "print(field.label)\n",
    "print(field.name)\n",
    "print(field.data)"
   ]
  },
  {
   "cell_type": "code",
   "execution_count": null,
   "id": "1a445a2b",
   "metadata": {},
   "outputs": [],
   "source": [
    "for fld in f:\n",
    "    print('')\n",
    "    print('###########################')\n",
    "    print('Field: ', fld.name)\n",
    "    print('')\n",
    "    print('------------------------------')\n",
    "    print('')\n",
    "    print('------------------------------')\n",
    "    print('as_text: ', fld.as_text)\n",
    "    print('')\n",
    "    print('------------------------------')\n",
    "    print('as_textarea: ', fld.as_textarea)\n",
    "    print('')\n",
    "    print('------------------------------')\n",
    "    print('as_widget: ', fld.as_widget)\n",
    "    print('')\n",
    "    print('------------------------------')\n",
    "    print('auto_id: ', fld.auto_id)\n",
    "    print('')\n",
    "    print('------------------------------')\n",
    "    print('build_widget_attrs: ', fld.build_widget_attrs)\n",
    "    print('')\n",
    "    print('------------------------------')\n",
    "    print('css_classes: ', fld.css_classes)\n",
    "    print('')\n",
    "    print('------------------------------')\n",
    "    print('data: ', fld.data)\n",
    "    print('')\n",
    "    print('------------------------------')\n",
    "    print('errors: ', fld.errors)\n",
    "    print('')\n",
    "    print('------------------------------')\n",
    "    print('field: ', fld.field)\n",
    "    print('')\n",
    "    print('------------------------------')\n",
    "    print('form: ', fld.form)\n",
    "    print('')\n",
    "    print('------------------------------')\n",
    "    print('help_text: ', fld.help_text)\n",
    "    print('')\n",
    "    print('------------------------------')\n",
    "    print('html_initial_id: ', fld.html_initial_id)\n",
    "    print('')\n",
    "    print('------------------------------')\n",
    "    print('html_initial_name: ', fld.html_initial_name)\n",
    "    print('')\n",
    "    print('------------------------------')\n",
    "    print('html_name: ', fld.html_name)\n",
    "    print('')\n",
    "    print('------------------------------')\n",
    "    print('id_for_label: ', fld.id_for_label)\n",
    "    print('')\n",
    "    print('------------------------------')\n",
    "    print('initial: ', fld.initial)\n",
    "    print('')\n",
    "    print('------------------------------')\n",
    "    print('is_hidden: ', fld.is_hidden)\n",
    "    print('')\n",
    "    print('------------------------------')\n",
    "    print('label: ', fld.label)\n",
    "    print('')\n",
    "    print('------------------------------')\n",
    "    print('label_tag: ', fld.label_tag)\n",
    "    print('')\n",
    "    print('------------------------------')\n",
    "    print('subwidgets: ', fld.subwidgets)\n",
    "    print('')\n",
    "    print('------------------------------')\n",
    "    print('value: ', fld.value)\n",
    "    print('')\n",
    "    print('------------------------------')\n",
    "    print('widget_type: ', fld.widget_type)\n",
    "    print('')\n",
    "    print('------------------------------')\n",
    " \n",
    "    "
   ]
  }
 ],
 "metadata": {
  "kernelspec": {
   "display_name": "Django Shell-Plus",
   "language": "python",
   "name": "django_extensions"
  },
  "language_info": {
   "codemirror_mode": {
    "name": "ipython",
    "version": 3
   },
   "file_extension": ".py",
   "mimetype": "text/x-python",
   "name": "python",
   "nbconvert_exporter": "python",
   "pygments_lexer": "ipython3",
   "version": "3.9.10"
  }
 },
 "nbformat": 4,
 "nbformat_minor": 5
}
