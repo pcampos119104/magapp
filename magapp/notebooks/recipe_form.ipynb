{
 "cells": [
  {
   "cell_type": "code",
   "execution_count": 1,
   "id": "151db1fa",
   "metadata": {},
   "outputs": [],
   "source": [
    "from magapp.recipes.forms import RecipeForm, RecipeIngredientForm\n",
    "from magapp.recipes.models import Recipe"
   ]
  },
  {
   "cell_type": "code",
   "execution_count": 3,
   "id": "46a6c693",
   "metadata": {},
   "outputs": [],
   "source": [
    "r = Recipe.objects.all().first()"
   ]
  },
  {
   "cell_type": "code",
   "execution_count": 15,
   "id": "1283ee2b",
   "metadata": {},
   "outputs": [],
   "source": [
    "rf = RecipeForm(instance=r)"
   ]
  },
  {
   "cell_type": "code",
   "execution_count": 10,
   "id": "1c61847a",
   "metadata": {},
   "outputs": [
    {
     "data": {
      "text/plain": [
       "['Meta',\n",
       " '__class__',\n",
       " '__delattr__',\n",
       " '__dict__',\n",
       " '__dir__',\n",
       " '__doc__',\n",
       " '__eq__',\n",
       " '__format__',\n",
       " '__ge__',\n",
       " '__getattribute__',\n",
       " '__getitem__',\n",
       " '__gt__',\n",
       " '__hash__',\n",
       " '__html__',\n",
       " '__init__',\n",
       " '__init_subclass__',\n",
       " '__iter__',\n",
       " '__le__',\n",
       " '__lt__',\n",
       " '__module__',\n",
       " '__ne__',\n",
       " '__new__',\n",
       " '__reduce__',\n",
       " '__reduce_ex__',\n",
       " '__repr__',\n",
       " '__setattr__',\n",
       " '__sizeof__',\n",
       " '__str__',\n",
       " '__subclasshook__',\n",
       " '__weakref__',\n",
       " '_bound_fields_cache',\n",
       " '_clean_fields',\n",
       " '_clean_form',\n",
       " '_errors',\n",
       " '_get_validation_exclusions',\n",
       " '_html_output',\n",
       " '_meta',\n",
       " '_post_clean',\n",
       " '_save_m2m',\n",
       " '_update_errors',\n",
       " '_validate_unique',\n",
       " 'add_error',\n",
       " 'add_initial_prefix',\n",
       " 'add_prefix',\n",
       " 'as_p',\n",
       " 'as_table',\n",
       " 'as_ul',\n",
       " 'auto_id',\n",
       " 'base_fields',\n",
       " 'changed_data',\n",
       " 'clean',\n",
       " 'cleaned_data',\n",
       " 'data',\n",
       " 'declared_fields',\n",
       " 'default_renderer',\n",
       " 'empty_permitted',\n",
       " 'error_class',\n",
       " 'errors',\n",
       " 'field_order',\n",
       " 'fields',\n",
       " 'files',\n",
       " 'full_clean',\n",
       " 'get_initial_for_field',\n",
       " 'has_changed',\n",
       " 'has_error',\n",
       " 'hidden_fields',\n",
       " 'initial',\n",
       " 'instance',\n",
       " 'is_bound',\n",
       " 'is_multipart',\n",
       " 'is_valid',\n",
       " 'label_suffix',\n",
       " 'media',\n",
       " 'non_field_errors',\n",
       " 'order_fields',\n",
       " 'prefix',\n",
       " 'renderer',\n",
       " 'save',\n",
       " 'use_required_attribute',\n",
       " 'validate_unique',\n",
       " 'visible_fields']"
      ]
     },
     "execution_count": 10,
     "metadata": {},
     "output_type": "execute_result"
    }
   ],
   "source": [
    "dir(rf)\n"
   ]
  },
  {
   "cell_type": "code",
   "execution_count": 16,
   "id": "2ac78b50",
   "metadata": {},
   "outputs": [
    {
     "data": {
      "text/plain": [
       "'<tr><th><label for=\"id_title\">Título:</label></th><td><input type=\"text\" name=\"title\" value=\"asdfasdf\" class=\"form-control form-control-lg\" placeholder=\"Título\" maxlength=\"64\" required id=\"id_title\"><br><span class=\"helptext\">Título da receita.</span></td></tr>\\n<tr><th><label for=\"id_directions\">Preparo:</label></th><td><textarea name=\"directions\" cols=\"40\" rows=\"10\" class=\"form-control form-control-lg\" placeholder=\"Preparo\" required id=\"id_directions\">\\nasdfasdfa</textarea><br><span class=\"helptext\">Passos para o preparo.</span></td></tr>\\n<tr><th><label for=\"id_font\">Fonte:</label></th><td><input type=\"text\" name=\"font\" value=\"asdasdf\" class=\"form-control form-control-lg\" placeholder=\"Livro de receita, link do youtube e etc\" maxlength=\"64\" id=\"id_font\"><br><span class=\"helptext\">Livro de receita, link do youtube e etc.</span></td></tr>'"
      ]
     },
     "execution_count": 16,
     "metadata": {},
     "output_type": "execute_result"
    }
   ],
   "source": [
    "rf.as_table()"
   ]
  }
 ],
 "metadata": {
  "kernelspec": {
   "display_name": "Django Shell-Plus",
   "language": "python",
   "name": "django_extensions"
  },
  "language_info": {
   "codemirror_mode": {
    "name": "ipython",
    "version": 3
   },
   "file_extension": ".py",
   "mimetype": "text/x-python",
   "name": "python",
   "nbconvert_exporter": "python",
   "pygments_lexer": "ipython3",
   "version": "3.9.10"
  }
 },
 "nbformat": 4,
 "nbformat_minor": 5
}
